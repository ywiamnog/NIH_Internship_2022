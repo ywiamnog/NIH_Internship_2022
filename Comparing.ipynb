{
 "cells": [
  {
   "cell_type": "code",
   "execution_count": 2,
   "id": "7ad7ed3a",
   "metadata": {},
   "outputs": [],
   "source": [
    "import numpy as np\n",
    "import scipy as sc\n",
    "import pandas as pd\n",
    "import scipy.stats as stats\n",
    "import statsmodels as sm\n",
    "import matplotlib.pyplot as plt\n",
    "import seaborn as sns"
   ]
  },
  {
   "cell_type": "code",
   "execution_count": 3,
   "id": "9d2a8228",
   "metadata": {
    "scrolled": true
   },
   "outputs": [],
   "source": [
    "# READ DATA\n",
    "# read old protocol data\n",
    "original_data_old = pd.read_csv('Protocol-99-H-0050B-data.csv')\n",
    "\n",
    "# data.describe() # used to see count of data to cut the csv into the parts where there was data\n",
    "old = original_data_old.head(59) # cut data to 59, which was count returned in data.describe()\n",
    "\n",
    "# remove unnecessary white space at beginning and end of column headers\n",
    "for col in old.columns:\n",
    "    old = old.rename(columns={col:col.title().strip()}) # makes each word capitalized, removes leading and trailing spaces\n",
    "\n",
    "old.columns = old.columns.str.replace('  ', ' ') # remove double spaces\n",
    "\n",
    "# remove unnecessary white space at beginning and end of values\n",
    "for row_idx in range(0, old.shape[0]):\n",
    "    for col_idx in range(0, old.shape[1]):\n",
    "        if old.dtypes[col_idx] == 'object':\n",
    "            old.iloc[row_idx, col_idx] = str(old.iloc[row_idx, col_idx]).strip()\n",
    "            old.iloc[row_idx, col_idx] = old.iloc[row_idx, col_idx].replace('  ', ' ')\n",
    "            old.iloc[row_idx, col_idx] = old.iloc[row_idx, col_idx].title()\n",
    "# print('Size: ', old.shape)\n",
    "# n_old = old.shape[0]\n",
    "# for column in old.columns:\n",
    "#     print(column)\n",
    "# old"
   ]
  },
  {
   "cell_type": "code",
   "execution_count": 4,
   "id": "40c81d7d",
   "metadata": {},
   "outputs": [],
   "source": [
    "# read new protocol data\n",
    "original_data_new = pd.read_csv('Transplant_10H0154.csv')\n",
    "\n",
    "# data.describe() # used to see count of data to cut the csv into the parts where there was data\n",
    "new = original_data_new.head(35) # cut data to 35, which was count returned in data.describe()\n",
    "\n",
    "# remove unnecessary white space at beginning and end of column headers\n",
    "for col in new.columns:\n",
    "    new = new.rename(columns={col:col.title().strip()}) # makes each word capitalized, removes leading and trailing spaces\n",
    "\n",
    "new.columns = new.columns.str.replace('  ', ' ') # remove double spaces\n",
    "\n",
    "# remove unnecessary white space at beginning and end of values\n",
    "for row_idx in range(0, new.shape[0]):\n",
    "    for col_idx in range(0, new.shape[1]):\n",
    "        if new.dtypes[col_idx] == 'object':\n",
    "            new.iloc[row_idx, col_idx] = str(new.iloc[row_idx, col_idx]).strip()\n",
    "            new.iloc[row_idx, col_idx] = new.iloc[row_idx, col_idx].replace('  ', ' ')\n",
    "            new.iloc[row_idx, col_idx] = new.iloc[row_idx, col_idx].title()\n",
    "            \n",
    "# print('Size: ', new.shape)\n",
    "# n_new = new.shape[0]\n",
    "# for column in new.columns:\n",
    "#     print(column)\n",
    "# new"
   ]
  },
  {
   "cell_type": "code",
   "execution_count": 5,
   "id": "21035118",
   "metadata": {},
   "outputs": [],
   "source": [
    "# fisher exact\n",
    "def fisher(row1, row2, oldcol, newcol, oldinput, newinput):\n",
    "    \"\"\"\n",
    "    creates does a fisher exact test on the given data\n",
    "    Inputs:\n",
    "    - row1, row2: strings defining row names\n",
    "    - oldcol, newcol: strings defining column names in original data\n",
    "    Outputs:\n",
    "    - oldinput, newinput: possible things that could be inputted into cells. Corresponds to row1.\n",
    "    - p: the p-value\"\"\"\n",
    "    df = pd.DataFrame({'Old': [0,0] , 'New': [0,0]})\n",
    "    df.index = [row1, row2]\n",
    "    for patient in old.index:\n",
    "        if old.at[patient, oldcol] == oldinput:\n",
    "            df.loc[row1, 'Old'] = df.loc[row1, 'Old'] + 1\n",
    "        else:\n",
    "            df.loc[row2, 'Old'] = df.loc[row2, 'Old'] + 1\n",
    "    for patient in new.index:\n",
    "        if new.at[patient, newcol] == newinput:\n",
    "            df.loc[row1, 'New'] = df.loc[row1, 'New'] + 1\n",
    "        else:\n",
    "            df.loc[row2, 'New'] = df.loc[row2, 'New'] + 1\n",
    "\n",
    "    print(df)\n",
    "\n",
    "    df_p = stats.fisher_exact(df)\n",
    "    return df_p[1]"
   ]
  },
  {
   "cell_type": "code",
   "execution_count": 6,
   "id": "ecce0ea0",
   "metadata": {},
   "outputs": [
    {
     "data": {
      "text/plain": [
       "0.73"
      ]
     },
     "execution_count": 6,
     "metadata": {},
     "output_type": "execute_result"
    }
   ],
   "source": [
    "# AGE wilcoxon rank test\n",
    "ages = stats.mannwhitneyu(old['Ageonstudy'], new['Age At Consent'])\n",
    "# age = stats.ttest_1samp(a=new['Age At Consent'], popmean=old['Ageonstudy'].mean())\n",
    "np.round(ages.pvalue, 2)"
   ]
  },
  {
   "cell_type": "code",
   "execution_count": 7,
   "id": "d3703344",
   "metadata": {},
   "outputs": [
    {
     "name": "stdout",
     "output_type": "stream",
     "text": [
      "   Old  New\n",
      "M   37   16\n",
      "F   22   19\n"
     ]
    },
    {
     "data": {
      "text/plain": [
       "0.13"
      ]
     },
     "execution_count": 7,
     "metadata": {},
     "output_type": "execute_result"
    }
   ],
   "source": [
    "# GENDER wilcoxon rank test\n",
    "'''\n",
    "    | Old(0) | New(1)\n",
    "M(0)|\n",
    "F(1)|\n",
    "'''\n",
    "gender=pd.DataFrame({'Old': [0,0] , 'New': [0,0]})\n",
    "gender.index = ['M', 'F']\n",
    "\n",
    "for patient in old.index:\n",
    "    if old.at[patient, 'Sex'] == 'M':\n",
    "        gender.loc['M', 'Old'] = gender.loc['M', 'Old'] + 1\n",
    "    else:\n",
    "        gender.loc['F', 'Old'] = gender.loc['F', 'Old'] + 1\n",
    "for patient in new.index:\n",
    "    if new.at[patient, 'Gender'] == 'M':\n",
    "        gender.loc['M', 'New'] = gender.loc['M', 'New'] + 1\n",
    "    else:\n",
    "        gender.loc['F', 'New'] = gender.loc['F', 'New'] + 1\n",
    "\n",
    "print(gender)\n",
    "\n",
    "gender_p = stats.fisher_exact(gender)\n",
    "np.round(gender_p[1], 2)"
   ]
  },
  {
   "cell_type": "code",
   "execution_count": 8,
   "id": "b30d4412",
   "metadata": {},
   "outputs": [
    {
     "name": "stdout",
     "output_type": "stream",
     "text": [
      "          Old  New\n",
      "Match      29   18\n",
      "Mismatch   30   17\n"
     ]
    },
    {
     "data": {
      "text/plain": [
       "1.0"
      ]
     },
     "execution_count": 8,
     "metadata": {},
     "output_type": "execute_result"
    }
   ],
   "source": [
    "# PATIENT/DONOR GENDER MATCH\n",
    "gender_match = pd.DataFrame({'Old': [0,0], 'New': [0,0]})\n",
    "gender_match.index = ['Match', 'Mismatch']\n",
    "for patient in old.index:\n",
    "    if old.at[patient, 'Sex']==old.at[patient, 'Donorsex']:\n",
    "        gender_match.at['Match', 'Old'] = gender_match.at['Match', 'Old'] + 1\n",
    "    else: \n",
    "        gender_match.at['Mismatch', 'Old'] = gender_match.at['Mismatch', 'Old'] + 1\n",
    "for patient in new.index:\n",
    "    if new.at[patient, 'Gender']==new.at[patient, 'Donor Gender']:\n",
    "        gender_match.at['Match', 'New'] = gender_match.at['Match', 'New'] + 1\n",
    "    else:\n",
    "        gender_match.at['Mismatch', 'New'] = gender_match.at['Mismatch', 'New'] + 1\n",
    "print(gender_match)\n",
    "\n",
    "test = pd.DataFrame({'New': [2, 13], 'Old': [17, 39]})\n",
    "tst = stats.fisher_exact(gender_match)\n",
    "tst\n",
    "\n",
    "gender_match_p = stats.fisher_exact(gender_match)\n",
    "np.round(gender_match_p[1], 2)"
   ]
  },
  {
   "cell_type": "code",
   "execution_count": 9,
   "id": "a9713f55",
   "metadata": {},
   "outputs": [
    {
     "name": "stdout",
     "output_type": "stream",
     "text": [
      "                   Old  New\n",
      "M Donor F Patient   11   10\n",
      "F Donor M Patient   19    7\n"
     ]
    },
    {
     "data": {
      "text/plain": [
       "0.22"
      ]
     },
     "execution_count": 9,
     "metadata": {},
     "output_type": "execute_result"
    }
   ],
   "source": [
    "# M DONOR/F PATIENT // F DONOR/M PATIENT\n",
    "mf = pd.DataFrame({'Old': [0,0], 'New': [0,0]})\n",
    "mf.index = ['M Donor F Patient', 'F Donor M Patient']\n",
    "for patient in old.index:\n",
    "    if old.at[patient, 'Sex']!=old.at[patient, 'Donorsex']:\n",
    "        if old.at[patient, 'Sex']=='M':\n",
    "            mf.at['F Donor M Patient', 'Old'] = mf.at['F Donor M Patient', 'Old'] + 1\n",
    "        else:\n",
    "            mf.at['M Donor F Patient', 'Old'] = mf.at['M Donor F Patient', 'Old'] + 1\n",
    "for patient in new.index:\n",
    "    if new.at[patient, 'Gender']!=new.at[patient, 'Donor Gender']:\n",
    "        if new.at[patient, 'Gender']=='M':\n",
    "            mf.at['F Donor M Patient', 'New'] = mf.at['F Donor M Patient', 'New'] + 1\n",
    "        else:\n",
    "            mf.at['M Donor F Patient', 'New'] = mf.at['M Donor F Patient', 'New'] + 1\n",
    "print(mf)\n",
    "mf_p = stats.fisher_exact(mf)\n",
    "np.round(mf_p[1], 2)"
   ]
  },
  {
   "cell_type": "code",
   "execution_count": 10,
   "id": "734033eb",
   "metadata": {},
   "outputs": [
    {
     "name": "stdout",
     "output_type": "stream",
     "text": [
      "          Old  New\n",
      "Match      53   34\n",
      "Mismatch    6    1\n"
     ]
    },
    {
     "data": {
      "text/plain": [
       "0.25"
      ]
     },
     "execution_count": 10,
     "metadata": {},
     "output_type": "execute_result"
    }
   ],
   "source": [
    "# HLA MATCH\n",
    "hla = pd.DataFrame({'Old': [0,0], 'New': [0,0]})\n",
    "hla.index = ['Match', 'Mismatch']\n",
    "for patient in old.index:\n",
    "    if old.at[patient, 'Hla']=='6/6':\n",
    "        hla.at['Match', 'Old'] = hla.at['Match', 'Old'] + 1\n",
    "    else:\n",
    "        hla.at['Mismatch', 'Old'] = hla.at['Mismatch', 'Old'] + 1\n",
    "for patient in new.index:\n",
    "    if new.at[patient, 'Hla Match (Ou Of 10)']==10:\n",
    "        hla.at['Match', 'New'] = hla.at['Match', 'New'] + 1\n",
    "    else:\n",
    "        hla.at['Mismatch', 'New'] = hla.at['Mismatch', 'New'] + 1\n",
    "print(hla)\n",
    "hla_p = stats.fisher_exact(hla)\n",
    "np.round(hla_p[1], 2)"
   ]
  },
  {
   "cell_type": "code",
   "execution_count": 11,
   "id": "c27d9153",
   "metadata": {},
   "outputs": [
    {
     "name": "stdout",
     "output_type": "stream",
     "text": [
      "                   Old  New\n",
      "Alloimmunized       23   24\n",
      "Not Alloimmunized   36   11\n"
     ]
    },
    {
     "data": {
      "text/plain": [
       "0.009971368141535514"
      ]
     },
     "execution_count": 11,
     "metadata": {},
     "output_type": "execute_result"
    }
   ],
   "source": [
    "# ALLOIMMUNIZATION\n",
    "fisher('Alloimmunized', 'Not Alloimmunized', 'Alloalloimmunization (1=Yes)', 'Alloimmunized', 1, 'Yes')"
   ]
  },
  {
   "cell_type": "code",
   "execution_count": 12,
   "id": "7b5b716f",
   "metadata": {},
   "outputs": [
    {
     "name": "stdout",
     "output_type": "stream",
     "text": [
      "MannwhitneyuResult(statistic=846.5, pvalue=0.22613938401992306)\n"
     ]
    }
   ],
   "source": [
    "# FERRITIN\n",
    "ferritin_old = pd.Series(old['Ferritin'])\n",
    "ferritin_new = pd.Series(new['Pre Transplant Ferritin (Mcg/L)'])\n",
    "ferritin_old = ferritin_old.dropna()\n",
    "ferritin_new = ferritin_new.dropna()\n",
    "\n",
    "print(stats.mannwhitneyu(ferritin_old, ferritin_new))"
   ]
  },
  {
   "cell_type": "code",
   "execution_count": 13,
   "id": "8e1b5921",
   "metadata": {},
   "outputs": [
    {
     "name": "stdout",
     "output_type": "stream",
     "text": [
      "                Old  New\n",
      "Ferritin<=1000   14    4\n",
      "Ferritin>1000    45   31\n"
     ]
    },
    {
     "data": {
      "text/plain": [
       "0.1808075026710116"
      ]
     },
     "execution_count": 13,
     "metadata": {},
     "output_type": "execute_result"
    }
   ],
   "source": [
    "# FERRITIN > 1000\n",
    "temp = []\n",
    "for patient in old.index:\n",
    "    if old.at[patient, 'Ferritin'] > 1000:\n",
    "        temp.append('Yes')\n",
    "    else: temp.append('No')\n",
    "old['Ferritin>1000'] = temp\n",
    "temp = []\n",
    "for patient in new.index:\n",
    "    if new.at[patient, 'Pre Transplant Ferritin (Mcg/L)'] > 1000:\n",
    "        temp.append('Yes')\n",
    "    else: temp.append('No')\n",
    "new['Ferritin>1000'] = temp\n",
    "fisher('Ferritin<=1000', 'Ferritin>1000', 'Ferritin>1000', 'Ferritin>1000', 'No', 'No')"
   ]
  },
  {
   "cell_type": "code",
   "execution_count": 14,
   "id": "11cc8cbe",
   "metadata": {},
   "outputs": [
    {
     "name": "stdout",
     "output_type": "stream",
     "text": [
      "MannwhitneyuResult(statistic=569.0, pvalue=0.0002898983165919478)\n"
     ]
    },
    {
     "data": {
      "text/plain": [
       "MannwhitneyuResult(statistic=2065.0, pvalue=1.1496754049906183e-16)"
      ]
     },
     "execution_count": 14,
     "metadata": {},
     "output_type": "execute_result"
    }
   ],
   "source": [
    "# TRANSPLANT CELL DOSAGE\n",
    "# Cd34+ cells\n",
    "cd34_p = stats.mannwhitneyu(old['Cd34 X10E6'], new['Total Cd34 Dose (X10 ^6 Cells /Kg)'])\n",
    "print(cd34_p)\n",
    "# CD3+ T cells\n",
    "old['Adjusted CD3+'] = 100000000 * old['Cd3 X10E8']\n",
    "new['Adjusted CD3+'] = 10000000 * new['Cd3 Cell-Back:Total Cd3 Dose (X10^7 Cells/Kg)']\n",
    "cd3_p = stats.mannwhitneyu(old['Adjusted CD3+'], new['Adjusted CD3+'])\n",
    "cd3_p"
   ]
  },
  {
   "cell_type": "code",
   "execution_count": 15,
   "id": "f23a661d",
   "metadata": {},
   "outputs": [
    {
     "name": "stdout",
     "output_type": "stream",
     "text": [
      "                        Old  New\n",
      "Neutrophil Recovery      58   35\n",
      "No Neutrophil Recovery    1    0\n",
      "1.0\n"
     ]
    }
   ],
   "source": [
    "# neutrophil recovery n (%)\n",
    "df = pd.DataFrame({'Old': [0,0], 'New': [0,0]})\n",
    "row1 = 'Neutrophil Recovery'\n",
    "row2 = 'No Neutrophil Recovery'\n",
    "s1 = pd.Series(old['Neutrophil_Recovery_Day'])\n",
    "s2 = pd.Series(new['Days To Neutrophil Recovery'])\n",
    "df.index = [row1, row2]\n",
    "for patient in old.index:\n",
    "    if not pd.isna(s1[patient]):\n",
    "        df.loc[row1, 'Old'] = df.loc[row1, 'Old'] + 1\n",
    "    else:\n",
    "        df.loc[row2, 'Old'] = df.loc[row2, 'Old'] + 1\n",
    "for patient in new.index:\n",
    "    if not pd.isna(s2[patient]):\n",
    "        df.loc[row1, 'New'] = df.loc[row1, 'New'] + 1\n",
    "    else:\n",
    "        df.loc[row2, 'New'] = df.loc[row2, 'New'] + 1\n",
    "\n",
    "print(df)\n",
    "print(stats.fisher_exact(df)[1])"
   ]
  },
  {
   "cell_type": "code",
   "execution_count": 16,
   "id": "432ef741",
   "metadata": {},
   "outputs": [
    {
     "name": "stdout",
     "output_type": "stream",
     "text": [
      "0.85\n"
     ]
    }
   ],
   "source": [
    "# NEUTROPHIL RECOVERY median range\n",
    "old_neutrophil = pd.Series(old['Neutrophil_Recovery_Day'])\n",
    "new_neutrophil = pd.Series(new['Days To Neutrophil Recovery'])\n",
    "# get rid of NaNs\n",
    "old_max = old_neutrophil.max()\n",
    "for patient in old_neutrophil.index:\n",
    "    if pd.isna(old_neutrophil[patient]):\n",
    "        old_neutrophil[patient] = old_max + 1\n",
    "new_max = new_neutrophil.max()\n",
    "for patient in new_neutrophil.index:\n",
    "    if pd.isna(new_neutrophil[patient]):\n",
    "        new_neutrophil[patient] = new_max + 1\n",
    "\n",
    "neutrophil_p = stats.mannwhitneyu(old_neutrophil, new_neutrophil)\n",
    "print(np.round(neutrophil_p.pvalue, 2))"
   ]
  },
  {
   "cell_type": "code",
   "execution_count": 17,
   "id": "d2a902ec",
   "metadata": {},
   "outputs": [
    {
     "name": "stdout",
     "output_type": "stream",
     "text": [
      "                      Old  New\n",
      "platelet Recovery      53   29\n",
      "No platelet Recovery    6    6\n",
      "0.3527340761193688\n"
     ]
    }
   ],
   "source": [
    "# platelet recovery n (%)\n",
    "df = pd.DataFrame({'Old': [0,0], 'New': [0,0]})\n",
    "row1 = 'platelet Recovery'\n",
    "row2 = 'No platelet Recovery'\n",
    "s1 = pd.Series(old['Platelet_Recovery_Day'])\n",
    "s2 = pd.Series(new['Days To Platelet Recovery Count Of 20'])\n",
    "df.index = [row1, row2]\n",
    "for patient in old.index:\n",
    "    if not pd.isna(s1[patient]):\n",
    "        df.loc[row1, 'Old'] = df.loc[row1, 'Old'] + 1\n",
    "    else:\n",
    "        df.loc[row2, 'Old'] = df.loc[row2, 'Old'] + 1\n",
    "for patient in new.index:\n",
    "    if not pd.isna(s2[patient]):\n",
    "        df.loc[row1, 'New'] = df.loc[row1, 'New'] + 1\n",
    "    else:\n",
    "        df.loc[row2, 'New'] = df.loc[row2, 'New'] + 1\n",
    "\n",
    "print(df)\n",
    "print(stats.fisher_exact(df)[1])"
   ]
  },
  {
   "cell_type": "code",
   "execution_count": 19,
   "id": "8ce44b36",
   "metadata": {},
   "outputs": [
    {
     "name": "stdout",
     "output_type": "stream",
     "text": [
      "2.784754487335916e-05\n"
     ]
    }
   ],
   "source": [
    "# PLATELET RECOVERY\n",
    "old_platelet = pd.Series(old['Platelet_Recovery_Day'])\n",
    "new_platelet = pd.Series(new['Days To Platelet Recovery Count Of 20'])\n",
    "# get rid of NaNs\n",
    "# old_platelet = old_platelet.dropna()\n",
    "# new_platelet = new_platelet.dropna()\n",
    "# old_max = old_platelet.max()\n",
    "maximum = max(old_platelet.max(), new_platelet.max())\n",
    "for patient in old_platelet.index:\n",
    "    if pd.isna(old_platelet[patient]):\n",
    "        old_platelet[patient] = maximum + 1\n",
    "# new_max = new_platelet.max()\n",
    "for patient in new_platelet.index:\n",
    "    if pd.isna(new_platelet[patient]):\n",
    "        new_platelet[patient] = maximum + 1\n",
    "platelet_p = stats.mannwhitneyu(old_platelet, new_platelet)\n",
    "print(platelet_p.pvalue)\n"
   ]
  },
  {
   "cell_type": "code",
   "execution_count": 64,
   "id": "9914be5c",
   "metadata": {},
   "outputs": [
    {
     "name": "stdout",
     "output_type": "stream",
     "text": [
      "t-cell chimerism\n",
      "                     Old  New\n",
      "t-cell chimerism      58   32\n",
      "No t-cell chimerism    1    3\n",
      "0.14379893628498497\n",
      "\n",
      "myeloid chimerism\n",
      "                      Old  New\n",
      "myeloid chimerism      58   34\n",
      "No myeloid chimerism    1    1\n",
      "1.0\n"
     ]
    }
   ],
   "source": [
    "# t-cell chimerism n (%)\n",
    "df = pd.DataFrame({'Old': [0,0], 'New': [0,0]})\n",
    "row1 = 't-cell chimerism'\n",
    "row2 = 'No t-cell chimerism'\n",
    "s1 = pd.Series(old['Days_To_Full_Donor_T-Chim'])\n",
    "s2 = pd.Series(new['Time (Days) To >= 95%Tcell T Cell Chimerism'])\n",
    "df.index = [row1, row2]\n",
    "for patient in old.index:\n",
    "    if not pd.isna(s1[patient]):\n",
    "        df.loc[row1, 'Old'] = df.loc[row1, 'Old'] + 1\n",
    "    else:\n",
    "        df.loc[row2, 'Old'] = df.loc[row2, 'Old'] + 1\n",
    "for patient in new.index:\n",
    "    if not pd.isna(s2[patient]):\n",
    "        df.loc[row1, 'New'] = df.loc[row1, 'New'] + 1\n",
    "    else:\n",
    "        df.loc[row2, 'New'] = df.loc[row2, 'New'] + 1\n",
    "\n",
    "print('t-cell chimerism')\n",
    "print(df)\n",
    "print(stats.fisher_exact(df)[1])\n",
    "\n",
    "print()\n",
    "\n",
    "# myeloid  chimerism n (%)\n",
    "df = pd.DataFrame({'Old': [0,0], 'New': [0,0]})\n",
    "row1 = 'myeloid chimerism'\n",
    "row2 = 'No myeloid chimerism'\n",
    "s1 = pd.Series(old['Days_To_Full_Donor_M-Chim'])\n",
    "s2 = pd.Series(new['Time (Days) To >= 95% Myeloid Chimerism'])\n",
    "df.index = [row1, row2]\n",
    "for patient in old.index:\n",
    "    if not pd.isna(s1[patient]):\n",
    "        df.loc[row1, 'Old'] = df.loc[row1, 'Old'] + 1\n",
    "    else:\n",
    "        df.loc[row2, 'Old'] = df.loc[row2, 'Old'] + 1\n",
    "for patient in new.index:\n",
    "    if not pd.isna(s2[patient]):\n",
    "        df.loc[row1, 'New'] = df.loc[row1, 'New'] + 1\n",
    "    else:\n",
    "        df.loc[row2, 'New'] = df.loc[row2, 'New'] + 1\n",
    "print('myeloid chimerism')\n",
    "print(df)\n",
    "print(stats.fisher_exact(df)[1])\n",
    "\n"
   ]
  },
  {
   "cell_type": "code",
   "execution_count": 16,
   "id": "265fdf4f",
   "metadata": {},
   "outputs": [
    {
     "name": "stdout",
     "output_type": "stream",
     "text": [
      "MannwhitneyuResult(statistic=731.5, pvalue=0.015923600082173736)\n",
      "MannwhitneyuResult(statistic=1560.5, pvalue=1.2013950722184115e-05)\n"
     ]
    }
   ],
   "source": [
    "# CHIMERISM\n",
    "# T-cell chimerism\n",
    "# get rid of nans\n",
    "old_tchim = pd.Series(old['Days_To_Full_Donor_T-Chim'])\n",
    "new_tchim = pd.Series(new['Time (Days) To >= 95%Tcell T Cell Chimerism'])\n",
    "# old_max = old_tchim.max()\n",
    "maximum = max(old_tchim.max(), new_tchim.max())\n",
    "for patient in old_tchim.index:\n",
    "    if pd.isna(old_tchim[patient]):\n",
    "        old_tchim[patient] = maximum + 1\n",
    "# new_max = new_tchim.max()\n",
    "for patient in new_tchim.index:\n",
    "    if pd.isna(new_tchim[patient]):\n",
    "        new_tchim[patient] = maximum + 1\n",
    "        \n",
    "print(stats.mannwhitneyu(old['Days_To_Full_Donor_T-Chim'], new['Time (Days) To >= 95%Tcell T Cell Chimerism']))\n",
    "\n",
    "# Myeloid chimerism\n",
    "old_mchim = pd.Series(old['Days_To_Full_Donor_M-Chim'])\n",
    "new_mchim = pd.Series(new['Time (Days) To >= 95% Myeloid Chimerism'])\n",
    "# old_max = old_mchim.max()\n",
    "maximum = max(old_mchim.max(), new_mchim.max())\n",
    "for patient in old_mchim.index:\n",
    "    if pd.isna(old_mchim[patient]):\n",
    "        old_mchim[patient] = old_max + 1\n",
    "# new_max = new_mchim.max()\n",
    "for patient in new_mchim.index:\n",
    "    if pd.isna(new_mchim[patient]):\n",
    "        new_mchim[patient] = new_max + 1\n",
    "        \n",
    "print(stats.mannwhitneyu(old['Days_To_Full_Donor_M-Chim'], new['Time (Days) To >= 95% Myeloid Chimerism']))"
   ]
  },
  {
   "cell_type": "code",
   "execution_count": 17,
   "id": "22929dfa",
   "metadata": {},
   "outputs": [
    {
     "name": "stdout",
     "output_type": "stream",
     "text": [
      "     Old  New\n",
      "Yes   32    8\n",
      "No    27   27\n",
      "     Old  New\n",
      "Yes   19    4\n",
      "No    40   31\n",
      "     Old  New\n",
      "Yes   41    6\n",
      "No    18   29\n",
      "Acute Grade 2-4:  0.00468\n",
      "Acute Grade 3-4:  0.02686\n",
      "Chronic:  1.411245472415434e-06\n"
     ]
    }
   ],
   "source": [
    "# GVHD\n",
    "\n",
    "# acute GVHD grade 2-4\n",
    "acute2_4 = pd.DataFrame({'Old': [0, 0], 'New': [0, 0]})\n",
    "acute2_4.index = ['Yes', 'No']\n",
    "\n",
    "# acute GVHD grade 3-4\n",
    "acute3_4 = pd.DataFrame({'Old': [0, 0], 'New': [0, 0]})\n",
    "acute3_4.index = ['Yes', 'No']\n",
    "\n",
    "for patient in old.index:\n",
    "    if old.at[patient, 'Acute_Gvhd_Grade2To4 (0=Yes)'] == 0:\n",
    "        acute2_4.at['Yes', 'Old'] = acute2_4.at['Yes', 'Old'] + 1\n",
    "    else:\n",
    "        acute2_4.at['No', 'Old'] = acute2_4.at['No', 'Old'] + 1\n",
    "    if old.at[patient, 'Acute_Gvhd_Grade3To4 (0=Yes)'] == 0:\n",
    "        acute3_4.at['Yes', 'Old'] = acute3_4.at['Yes', 'Old'] + 1\n",
    "    else:\n",
    "        acute3_4.at['No', 'Old'] = acute3_4.at['No', 'Old'] + 1\n",
    "for patient in new.index:\n",
    "    if new.at[patient, 'Acute Gvhd Grade'] >= 2:\n",
    "        acute2_4.at['Yes', 'New'] = acute2_4.at['Yes', 'New'] + 1\n",
    "    else:\n",
    "        acute2_4.at['No', 'New'] = acute2_4.at['No', 'New'] + 1\n",
    "    if new.at[patient, 'Acute Gvhd Grade'] >= 3:\n",
    "        acute3_4.at['Yes', 'New'] = acute3_4.at['Yes', 'New'] + 1\n",
    "    else:\n",
    "        acute3_4.at['No', 'New'] = acute3_4.at['No', 'New'] + 1\n",
    "print(acute2_4)\n",
    "print(acute3_4)\n",
    "\n",
    "# chronic GVHD\n",
    "chronic = pd.DataFrame({'Old': [0, 0], 'New': [0, 0]})\n",
    "chronic.index = ['Yes', 'No']\n",
    "for patient in old.index:\n",
    "    if old.at[patient, 'Chronic_Gvhd (1=Yes)'] == 1:\n",
    "        chronic.at['Yes', 'Old'] = chronic.at['Yes', 'Old'] + 1\n",
    "    else:\n",
    "        chronic.at['No', 'Old'] = chronic.at['No', 'Old'] + 1\n",
    "for patient in new.index:\n",
    "    if new.at[patient, 'Chronic Gvhd (Yes/No)'] == 'Yes':\n",
    "        chronic.at['Yes', 'New'] = chronic.at['Yes', 'New'] + 1\n",
    "    else:\n",
    "        chronic.at['No', 'New'] = chronic.at['No', 'New'] + 1\n",
    "print(chronic)\n",
    "\n",
    "acute2_4_p = stats.fisher_exact(acute2_4)\n",
    "acute3_4_p = stats.fisher_exact(acute3_4)\n",
    "chronic_p = stats.fisher_exact(chronic)\n",
    "print('Acute Grade 2-4: ', np.round(acute2_4_p[1],5))\n",
    "print('Acute Grade 3-4: ', np.round(acute3_4_p[1],5))\n",
    "print('Chronic: ', chronic_p[1])"
   ]
  },
  {
   "cell_type": "code",
   "execution_count": 18,
   "id": "d8129c33",
   "metadata": {},
   "outputs": [
    {
     "name": "stdout",
     "output_type": "stream",
     "text": [
      "                   Old  New\n",
      "Extensive GVHD      28    5\n",
      "No Extensive GVHD   31   30\n"
     ]
    },
    {
     "data": {
      "text/plain": [
       "0.0015276971557956131"
      ]
     },
     "execution_count": 18,
     "metadata": {},
     "output_type": "execute_result"
    }
   ],
   "source": [
    "# Extensive GVHD\n",
    "fisher('Extensive GVHD', 'No Extensive GVHD', 'Cgvhd_Extensive', 'Cgvhd (Limited/Extensive)', 1, 'Extensive')"
   ]
  },
  {
   "cell_type": "code",
   "execution_count": 19,
   "id": "59d31785",
   "metadata": {},
   "outputs": [
    {
     "name": "stdout",
     "output_type": "stream",
     "text": [
      "                 Old  New\n",
      "CMV at risk       53   29\n",
      "CMV not at risk    6    6\n",
      "0.3527340761193688\n",
      "                     Old  New\n",
      "CMV Reactivation      33   22\n",
      "CMV no Reactivation   26   13\n",
      "0.5258875630002572\n",
      "\n",
      "Among at risk, number reactivated:\n",
      "                 Old  New\n",
      "Reactivation      33   22\n",
      "No Reactivation   20    7\n"
     ]
    },
    {
     "data": {
      "text/plain": [
       "0.23"
      ]
     },
     "execution_count": 19,
     "metadata": {},
     "output_type": "execute_result"
    }
   ],
   "source": [
    "# CMV \n",
    "\n",
    "print(fisher('CMV at risk', 'CMV not at risk', 'Risk_Cmv', 'Cmv At Risk', 1, 'Yes'))\n",
    "\n",
    "# reactivation\n",
    "old['Cmv_Reactivation (0=Yes)']\n",
    "new['Cmv Reactivation (Yes/No)']\n",
    "print(fisher('CMV Reactivation', 'CMV no Reactivation', 'Cmv_Reactivation (0=Yes)', 'Cmv Reactivation (Yes/No)', 0, 'Yes'))\n",
    "\n",
    "print()\n",
    "print('Among at risk, number reactivated:')\n",
    "\n",
    "cmvoutof = pd.DataFrame({'Old': [33, 53-33], 'New': [22, 29-22]})\n",
    "cmvoutof.index = ['Reactivation', 'No Reactivation']\n",
    "print(cmvoutof)\n",
    "np.round(stats.fisher_exact(cmvoutof)[1],2)"
   ]
  },
  {
   "cell_type": "code",
   "execution_count": 20,
   "id": "e6ee487e",
   "metadata": {},
   "outputs": [
    {
     "data": {
      "text/plain": [
       "0.014993544590353299"
      ]
     },
     "execution_count": 20,
     "metadata": {},
     "output_type": "execute_result"
    }
   ],
   "source": [
    "# cmv reactivation days\n",
    "cmv_old = []\n",
    "for patient in old.index:\n",
    "    if old.at[patient, 'Cmv_Reactivation (0=Yes)'] == 0:\n",
    "        cmv_old.append(old.at[patient, 'Cmvdays'])\n",
    "cmv_new = []\n",
    "for patient in new.index:\n",
    "    if new.at[patient, 'Cmv Reactivation (Yes/No)'] == 'Yes':\n",
    "        cmv_new.append(new.at[patient, 'Cmv Reactivation Days Post-Transplant'])\n",
    "stats.mannwhitneyu(cmv_old, cmv_new)[1]"
   ]
  },
  {
   "cell_type": "code",
   "execution_count": 21,
   "id": "acdcf022",
   "metadata": {},
   "outputs": [
    {
     "data": {
      "text/plain": [
       "0.49"
      ]
     },
     "execution_count": 21,
     "metadata": {},
     "output_type": "execute_result"
    }
   ],
   "source": [
    "# survival 200 day\n",
    "survival = pd.DataFrame({'Old': [0,0], 'New': [0,0]})\n",
    "survival.index = ['Dead at 200', 'Alive at 200']\n",
    "for patient in old.index:\n",
    "    if old.at[patient, 'Survival (0=Death)'] == 0 and old.at[patient, 'Survdays'] < 200:\n",
    "        survival.at['Dead at 200', 'Old'] = survival.at['Dead at 200', 'Old'] + 1\n",
    "    else:\n",
    "        survival.at['Alive at 200', 'Old'] = survival.at['Alive at 200', 'Old'] + 1\n",
    "for patient in new.index:\n",
    "    if new.at[patient, 'Was Subject Alive At Day 200?'] == 'No':\n",
    "        survival.at['Dead at 200', 'New'] = survival.at['Dead at 200', 'New'] + 1\n",
    "    else:\n",
    "        survival.at['Alive at 200', 'New'] = survival.at['Alive at 200', 'New'] + 1\n",
    "np.round(stats.fisher_exact(survival)[1],2)"
   ]
  },
  {
   "cell_type": "code",
   "execution_count": 2,
   "id": "560b1fdc",
   "metadata": {},
   "outputs": [
    {
     "name": "stdout",
     "output_type": "stream",
     "text": [
      "0.7582032130518026\n"
     ]
    }
   ],
   "source": [
    "import math\n",
    "\n",
    "# diagnosis\n",
    "def _dfs(mat, pos, r_sum, c_sum, p_0, p):\n",
    "\n",
    "    (xx, yy) = pos\n",
    "    (r, c) = (len(r_sum), len(c_sum))\n",
    "\n",
    "    mat_new = []\n",
    "\n",
    "    for i in range(len(mat)):\n",
    "        temp = []\n",
    "        for j in range(len(mat[0])):\n",
    "            temp.append(mat[i][j])\n",
    "        mat_new.append(temp)\n",
    "\n",
    "    if xx == -1 and yy == -1:\n",
    "        for i in range(r-1):\n",
    "            temp = r_sum[i]\n",
    "            for j in range(c-1):\n",
    "                temp -= mat_new[i][j]\n",
    "            mat_new[i][c-1] = temp\n",
    "        for j in range(c-1):\n",
    "            temp = c_sum[j]\n",
    "            for i in range(r-1):\n",
    "                temp -= mat_new[i][j]\n",
    "            mat_new[r-1][j] = temp\n",
    "        temp = r_sum[r-1]\n",
    "        for j in range(c-1):\n",
    "            temp -= mat_new[r-1][j]\n",
    "        if temp <0:\n",
    "            return\n",
    "        mat_new[r-1][c-1] = temp\n",
    "\n",
    "        p_1 = 1\n",
    "        for x in r_sum:\n",
    "            p_1 *= math.factorial(x)\n",
    "        for y in c_sum:\n",
    "            p_1 *= math.factorial(y)\n",
    "\n",
    "        n = 0\n",
    "        for x in r_sum:\n",
    "            n += x\n",
    "        p_1 /= math.factorial(n)\n",
    "\n",
    "        for i in range(len(mat_new)):\n",
    "            for j in range(len(mat_new[0])):\n",
    "                p_1 /= math.factorial(mat_new[i][j])\n",
    "        if p_1 <= p_0 + 0.00000001:\n",
    "            #print(mat_new)\n",
    "            #print(p_1)\n",
    "            p[0] += p_1\n",
    "    else:\n",
    "        max_1 = r_sum[xx]\n",
    "        max_2 = c_sum[yy]\n",
    "        for j in range(c):\n",
    "            max_1 -= mat_new[xx][j]\n",
    "        for i in range(r):\n",
    "            max_2 -= mat_new[i][yy]\n",
    "        for k in range(min(max_1,max_2)+1):\n",
    "            mat_new[xx][yy] = k\n",
    "            if xx == r-2 and yy == c-2:\n",
    "                pos_new = (-1, -1)\n",
    "            elif xx == r-2:\n",
    "                pos_new = (0, yy+1)\n",
    "            else:\n",
    "                pos_new = (xx+1, yy)\n",
    "            _dfs(mat_new, pos_new, r_sum, c_sum, p_0, p)\n",
    "\n",
    "\n",
    "def fisher_exact(table):\n",
    "\n",
    "    row_sum = []\n",
    "    col_sum = []\n",
    "\n",
    "    for i in range(len(table)):\n",
    "        temp = 0\n",
    "        for j in range(len(table[0])):\n",
    "            temp += table[i][j]\n",
    "        row_sum.append(temp)\n",
    "    \n",
    "    for j in range(len(table[0])):\n",
    "        temp = 0\n",
    "        for i in range(len(table)):\n",
    "            temp += table[i][j]\n",
    "        col_sum.append(temp)\n",
    "\n",
    "    mat = [[0] * len(col_sum)] * len(row_sum)\n",
    "    pos = (0, 0)\n",
    "\n",
    "    p_0 = 1\n",
    "\n",
    "    for x in row_sum:\n",
    "        p_0 *= math.factorial(x)\n",
    "    for y in col_sum:\n",
    "        p_0 *= math.factorial(y)\n",
    "\n",
    "    n = 0\n",
    "    for x in row_sum:\n",
    "        n += x\n",
    "    p_0 /= math.factorial(n)\n",
    "\n",
    "    for i in range(len(table)):\n",
    "        for j in range(len(table[0])):\n",
    "            p_0 /= math.factorial(table[i][j])\n",
    "\n",
    "    p = [0]\n",
    "    _dfs(mat, pos, row_sum, col_sum, p_0, p)\n",
    "\n",
    "    return p[0]\n",
    "\n",
    "# table [[21, 32], [10, 17], [4, 7], [0, 3]]\n",
    "print(fisher_exact([[21, 32], \n",
    "                   [10, 17], \n",
    "                   [4, 7],\n",
    "                   [0, 3]]))\n",
    "\n"
   ]
  }
 ],
 "metadata": {
  "kernelspec": {
   "display_name": "Python 3 (ipykernel)",
   "language": "python",
   "name": "python3"
  },
  "language_info": {
   "codemirror_mode": {
    "name": "ipython",
    "version": 3
   },
   "file_extension": ".py",
   "mimetype": "text/x-python",
   "name": "python",
   "nbconvert_exporter": "python",
   "pygments_lexer": "ipython3",
   "version": "3.7.7"
  }
 },
 "nbformat": 4,
 "nbformat_minor": 5
}
